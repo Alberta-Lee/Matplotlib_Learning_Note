{
 "cells": [
  {
   "cell_type": "code",
   "execution_count": 1,
   "metadata": {},
   "outputs": [],
   "source": [
    "%matplotlib inline"
   ]
  },
  {
   "cell_type": "markdown",
   "metadata": {},
   "source": [
    "\n",
    "# Path Tutorial\n",
    "\n",
    "\n",
    "Defining paths in your Matplotlib visualization.\n",
    "\n",
    "The object underlying all of the :mod:`matplotlib.patch` objects is\n",
    "the :class:`~matplotlib.path.Path`, which supports the standard set of\n",
    "moveto, lineto, curveto commands to draw simple and compound outlines\n",
    "consisting of line segments and splines.  The ``Path`` is instantiated\n",
    "with a (N,2) array of (x,y) vertices, and a N-length array of path\n",
    "codes.  For example to draw the unit rectangle from (0,0) to (1,1), we\n",
    "could use this code\n"
   ]
  },
  {
   "cell_type": "code",
   "execution_count": 2,
   "metadata": {},
   "outputs": [
    {
     "data": {
      "image/png": "[encoded data removed]",
      "text/plain": [
       "<Figure size 432x288 with 1 Axes>"
      ]
     },
     "metadata": {
      "needs_background": "light"
     },
     "output_type": "display_data"
    }
   ],
   "source": [
    "import matplotlib.pyplot as plt\n",
    "from matplotlib.path import Path\n",
    "import matplotlib.patches as patches\n",
    "\n",
    "verts = [\n",
    "   (0., 0.),  # left, bottom\n",
    "   (0., 1.),  # left, top\n",
    "   (1., 1.),  # right, top\n",
    "   (1., 0.),  # right, bottom\n",
    "   (0., 0.),  # ignored\n",
    "]\n",
    "\n",
    "codes = [\n",
    "    Path.MOVETO,\n",
    "    Path.LINETO,\n",
    "    Path.LINETO,\n",
    "    Path.LINETO,\n",
    "    Path.CLOSEPOLY,\n",
    "]\n",
    "\n",
    "path = Path(verts, codes)\n",
    "\n",
    "fig, ax = plt.subplots()\n",
    "patch = patches.PathPatch(path, facecolor='orange', lw=2)\n",
    "ax.add_patch(patch)\n",
    "ax.set_xlim(-2, 2)\n",
    "ax.set_ylim(-2, 2)\n",
    "plt.show()"
   ]
  },
  {
   "cell_type": "markdown",
   "metadata": {},
   "source": [
    "The following path codes are recognized\n",
    "\n",
    "============== =================================  ====================================================================================================================\n",
    "Code           Vertices                           Description\n",
    "============== =================================  ====================================================================================================================\n",
    "``STOP``       1 (ignored)                        A marker for the end of the entire path (currently not required and ignored)\n",
    "``MOVETO``     1                                  Pick up the pen and move to the given vertex.\n",
    "``LINETO``     1                                  Draw a line from the current position to the given vertex.\n",
    "``CURVE3``     2 (1 control point, 1 endpoint)    Draw a quadratic Bézier curve from the current position, with the given control point, to the given end point.\n",
    "``CURVE4``     3 (2 control points, 1 endpoint)   Draw a cubic Bézier curve from the current position, with the given control points, to the given end point.\n",
    "``CLOSEPOLY``  1 (point itself is ignored)        Draw a line segment to the start point of the current polyline.\n",
    "============== =================================  ====================================================================================================================\n",
    "\n",
    "\n",
    ".. path-curves:\n",
    "\n",
    "\n",
    "Bézier example\n",
    "==============\n",
    "\n",
    "Some of the path components require multiple vertices to specify them:\n",
    "for example CURVE 3 is a `bézier\n",
    "<https://en.wikipedia.org/wiki/B%C3%A9zier_curve>`_ curve with one\n",
    "control point and one end point, and CURVE4 has three vertices for the\n",
    "two control points and the end point.  The example below shows a\n",
    "CURVE4 Bézier spline -- the bézier curve will be contained in the\n",
    "convex hull of the start point, the two control points, and the end\n",
    "point\n",
    "\n"
   ]
  },
  {
   "cell_type": "code",
   "execution_count": 3,
   "metadata": {},
   "outputs": [
    {
     "data": {
      "image/png": "[encoded data removed]",
      "text/plain": [
       "<Figure size 432x288 with 1 Axes>"
      ]
     },
     "metadata": {
      "needs_background": "light"
     },
     "output_type": "display_data"
    }
   ],
   "source": [
    "verts = [\n",
    "   (0., 0.),   # P0\n",
    "   (0.2, 1.),  # P1\n",
    "   (1., 0.8),  # P2\n",
    "   (0.8, 0.),  # P3\n",
    "]\n",
    "\n",
    "codes = [\n",
    "    Path.MOVETO,\n",
    "    Path.CURVE4,\n",
    "    Path.CURVE4,\n",
    "    Path.CURVE4,\n",
    "]\n",
    "\n",
    "path = Path(verts, codes)\n",
    "\n",
    "fig, ax = plt.subplots()\n",
    "patch = patches.PathPatch(path, facecolor='none', lw=2)\n",
    "ax.add_patch(patch)\n",
    "\n",
    "xs, ys = zip(*verts)\n",
    "ax.plot(xs, ys, 'x--', lw=2, color='black', ms=10)\n",
    "\n",
    "ax.text(-0.05, -0.05, 'P0')\n",
    "ax.text(0.15, 1.05, 'P1')\n",
    "ax.text(1.05, 0.85, 'P2')\n",
    "ax.text(0.85, -0.05, 'P3')\n",
    "\n",
    "ax.set_xlim(-0.1, 1.1)\n",
    "ax.set_ylim(-0.1, 1.1)\n",
    "plt.show()"
   ]
  },
  {
   "cell_type": "markdown",
   "metadata": {},
   "source": [
    ".. compound_paths:\n",
    "\n",
    "Compound paths\n",
    "==============\n",
    "\n",
    "All of the simple patch primitives in matplotlib, Rectangle, Circle,\n",
    "Polygon, etc, are implemented with simple path.  Plotting functions\n",
    "like :meth:`~matplotlib.axes.Axes.hist` and\n",
    ":meth:`~matplotlib.axes.Axes.bar`, which create a number of\n",
    "primitives, e.g., a bunch of Rectangles, can usually be implemented more\n",
    "efficiently using a compound path.  The reason ``bar`` creates a list\n",
    "of rectangles and not a compound path is largely historical: the\n",
    ":class:`~matplotlib.path.Path` code is comparatively new and ``bar``\n",
    "predates it.  While we could change it now, it would break old code,\n",
    "so here we will cover how to create compound paths, replacing the\n",
    "functionality in bar, in case you need to do so in your own code for\n",
    "efficiency reasons, e.g., you are creating an animated bar plot.\n",
    "\n",
    "We will make the histogram chart by creating a series of rectangles\n",
    "for each histogram bar: the rectangle width is the bin width and the\n",
    "rectangle height is the number of datapoints in that bin.  First we'll\n",
    "create some random normally distributed data and compute the\n",
    "histogram.  Because numpy returns the bin edges and not centers, the\n",
    "length of ``bins`` is 1 greater than the length of ``n`` in the\n",
    "example below::\n",
    "\n",
    "    # histogram our data with numpy\n",
    "    data = np.random.randn(1000)\n",
    "    n, bins = np.histogram(data, 100)\n",
    "\n",
    "We'll now extract the corners of the rectangles.  Each of the\n",
    "``left``, ``bottom``, etc, arrays below is ``len(n)``, where ``n`` is\n",
    "the array of counts for each histogram bar::\n",
    "\n",
    "    # get the corners of the rectangles for the histogram\n",
    "    left = np.array(bins[:-1])\n",
    "    right = np.array(bins[1:])\n",
    "    bottom = np.zeros(len(left))\n",
    "    top = bottom + n\n",
    "\n",
    "Now we have to construct our compound path, which will consist of a\n",
    "series of ``MOVETO``, ``LINETO`` and ``CLOSEPOLY`` for each rectangle.\n",
    "For each rectangle, we need 5 vertices: 1 for the ``MOVETO``, 3 for\n",
    "the ``LINETO``, and 1 for the ``CLOSEPOLY``.  As indicated in the\n",
    "table above, the vertex for the closepoly is ignored but we still need\n",
    "it to keep the codes aligned with the vertices::\n",
    "\n",
    "    nverts = nrects*(1+3+1)\n",
    "    verts = np.zeros((nverts, 2))\n",
    "    codes = np.ones(nverts, int) * path.Path.LINETO\n",
    "    codes[0::5] = path.Path.MOVETO\n",
    "    codes[4::5] = path.Path.CLOSEPOLY\n",
    "    verts[0::5,0] = left\n",
    "    verts[0::5,1] = bottom\n",
    "    verts[1::5,0] = left\n",
    "    verts[1::5,1] = top\n",
    "    verts[2::5,0] = right\n",
    "    verts[2::5,1] = top\n",
    "    verts[3::5,0] = right\n",
    "    verts[3::5,1] = bottom\n",
    "\n",
    "All that remains is to create the path, attach it to a\n",
    ":class:`~matplotlib.patch.PathPatch`, and add it to our axes::\n",
    "\n",
    "    barpath = path.Path(verts, codes)\n",
    "    patch = patches.PathPatch(barpath, facecolor='green',\n",
    "      edgecolor='yellow', alpha=0.5)\n",
    "    ax.add_patch(patch)\n",
    "\n"
   ]
  },
  {
   "cell_type": "code",
   "execution_count": 4,
   "metadata": {},
   "outputs": [
    {
     "data": {
      "image/png": "[encoded data removed]",
      "text/plain": [
       "<Figure size 432x288 with 1 Axes>"
      ]
     },
     "metadata": {
      "needs_background": "light"
     },
     "output_type": "display_data"
    }
   ],
   "source": [
    "import numpy as np\n",
    "import matplotlib.patches as patches\n",
    "import matplotlib.path as path\n",
    "\n",
    "fig, ax = plt.subplots()\n",
    "# Fixing random state for reproducibility\n",
    "np.random.seed(19680801)\n",
    "\n",
    "# histogram our data with numpy\n",
    "data = np.random.randn(1000)\n",
    "n, bins = np.histogram(data, 100)\n",
    "\n",
    "# get the corners of the rectangles for the histogram\n",
    "left = np.array(bins[:-1])\n",
    "right = np.array(bins[1:])\n",
    "bottom = np.zeros(len(left))\n",
    "top = bottom + n\n",
    "nrects = len(left)\n",
    "\n",
    "nverts = nrects*(1+3+1)\n",
    "verts = np.zeros((nverts, 2))\n",
    "codes = np.ones(nverts, int) * path.Path.LINETO\n",
    "codes[0::5] = path.Path.MOVETO\n",
    "codes[4::5] = path.Path.CLOSEPOLY\n",
    "verts[0::5, 0] = left\n",
    "verts[0::5, 1] = bottom\n",
    "verts[1::5, 0] = left\n",
    "verts[1::5, 1] = top\n",
    "verts[2::5, 0] = right\n",
    "verts[2::5, 1] = top\n",
    "verts[3::5, 0] = right\n",
    "verts[3::5, 1] = bottom\n",
    "\n",
    "barpath = path.Path(verts, codes)\n",
    "patch = patches.PathPatch(barpath, facecolor='green',\n",
    "                          edgecolor='yellow', alpha=0.5)\n",
    "ax.add_patch(patch)\n",
    "\n",
    "ax.set_xlim(left[0], right[-1])\n",
    "ax.set_ylim(bottom.min(), top.max())\n",
    "\n",
    "plt.show()"
   ]
  }
 ],
 "metadata": {
  "kernelspec": {
   "display_name": "Python [conda env:pytorch] *",
   "language": "python",
   "name": "conda-env-pytorch-py"
  },
  "language_info": {
   "codemirror_mode": {
    "name": "ipython",
    "version": 3
   },
   "file_extension": ".py",
   "mimetype": "text/x-python",
   "name": "python",
   "nbconvert_exporter": "python",
   "pygments_lexer": "ipython3",
   "version": "3.7.7"
  }
 },
 "nbformat": 4,
 "nbformat_minor": 1
}
