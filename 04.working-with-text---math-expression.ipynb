{
 "cells": [
  {
   "cell_type": "markdown",
   "metadata": {},
   "source": [
    "# 处理文本（数学表达式）"
   ]
  },
  {
   "cell_type": "markdown",
   "metadata": {},
   "source": [
    "在字符串中使用一对 `$$` 符号可以利用 `Tex` 语法打出数学表达式，而且并不需要预先安装 `Tex`。在使用时我们通常加上 `r` 标记表示它是一个原始字符串（raw string）"
   ]
  },
  {
   "cell_type": "code",
   "execution_count": 1,
   "metadata": {},
   "outputs": [],
   "source": [
    "import matplotlib.pyplot as plt\n",
    "import numpy as np\n",
    "%matplotlib inline"
   ]
  },
  {
   "cell_type": "code",
   "execution_count": 2,
   "metadata": {},
   "outputs": [
    {
     "data": {
      "image/png": "[encoded data removed]",
      "text/plain": [
       "<Figure size 432x288 with 1 Axes>"
      ]
     },
     "metadata": {
      "needs_background": "light"
     },
     "output_type": "display_data"
    }
   ],
   "source": [
    "# plain text\n",
    "plt.title('alpha > beta')\n",
    "\n",
    "plt.show()"
   ]
  },
  {
   "cell_type": "code",
   "execution_count": 3,
   "metadata": {},
   "outputs": [
    {
     "data": {
      "image/png": "[encoded data removed]",
      "text/plain": [
       "<Figure size 432x288 with 1 Axes>"
      ]
     },
     "metadata": {
      "needs_background": "light"
     },
     "output_type": "display_data"
    }
   ],
   "source": [
    "# math text\n",
    "plt.title(r'$\\alpha > \\beta$')\n",
    "\n",
    "plt.show()"
   ]
  },
  {
   "cell_type": "markdown",
   "metadata": {},
   "source": [
    "## 上下标"
   ]
  },
  {
   "cell_type": "markdown",
   "metadata": {},
   "source": [
    "使用 `_` 和 `^` 表示上下标：\n",
    "\n",
    "$\\alpha_i > \\beta_i$：\n",
    "\n",
    "    r'$\\alpha_i > \\beta_i$'\n",
    "\n",
    "$\\sum\\limits_{i=0}^\\infty x_i$：\n",
    "\n",
    "    r'$\\sum_{i=0}^\\infty x_i$'\n",
    "\n",
    "注：\n",
    "\n",
    "- 希腊字母和特殊符号可以用 '\\ + 对应的名字' 来显示\n",
    "- `{}` 中的内容属于一个部分；要打出花括号是需要使用 `\\{\\}`"
   ]
  },
  {
   "cell_type": "markdown",
   "metadata": {},
   "source": [
    "## 分数，二项式系数，stacked numbers"
   ]
  },
  {
   "cell_type": "markdown",
   "metadata": {},
   "source": [
    "$\\frac{3}{4}, \\binom{3}{4}, \\stackrel{3}{4}$：\n",
    "\n",
    "    r'$\\frac{3}{4}, \\binom{3}{4}, \\stackrel{3}{4}$'\n",
    "\n",
    "$\\frac{5 - \\frac{1}{x}}{4}$：\n",
    "\n",
    "    r'$\\frac{5 - \\frac{1}{x}}{4}$'\n",
    "\n",
    "在 Tex 语言中，括号始终是默认的大小，如果要使括号大小与括号内部的大小对应，可以使用 `\\left` 和 `\\right` 选项：\n",
    "\n",
    "$(\\frac{5 - \\frac{1}{x}}{4})$\n",
    "\n",
    "    r'$(\\frac{5 - \\frac{1}{x}}{4})$'\n",
    "\n",
    "$\\left(\\frac{5 - \\frac{1}{x}}{4}\\right)$：\n",
    "\n",
    "    r'$\\left(\\frac{5 - \\frac{1}{x}}{4}\\right)$'"
   ]
  },
  {
   "cell_type": "markdown",
   "metadata": {},
   "source": [
    "## 根号"
   ]
  },
  {
   "cell_type": "markdown",
   "metadata": {},
   "source": [
    "$\\sqrt{2}$：\n",
    "\n",
    "    r'$\\sqrt{2}$'\n",
    "\n",
    "$\\sqrt[3]{x}$：\n",
    "\n",
    "    r'$\\sqrt[3]{x}$'"
   ]
  },
  {
   "cell_type": "markdown",
   "metadata": {},
   "source": [
    "## 特殊字体"
   ]
  },
  {
   "cell_type": "markdown",
   "metadata": {},
   "source": [
    "默认显示的字体是斜体，不过可以使用以下方法显示不同的字体：\n",
    "\n",
    "命令|显示\n",
    "--|--\n",
    "\\mathrm{Roman}|$\\mathrm{Roman}$\n",
    "\\mathit{Italic}|$\\mathit{Italic}$\n",
    "\\mathtt{Typewriter}|$\\mathtt{Typewriter}$\n",
    "\\mathcal{CALLIGRAPHY}|$\\mathcal{CALLIGRAPHY}$\n",
    "\\mathbb{blackboard}|$\\mathbb{blackboard}$\n",
    "\\mathfrak{Fraktur}|$\\mathfrak{Fraktur}$\n",
    "\\mathsf{sansserif}|$\\mathsf{sansserif}$\n",
    "\n",
    "$s(t) = \\mathcal{A}\\ \\sin(2 \\omega t)$：\n",
    "\n",
    "    s(t) = \\mathcal{A}\\ \\sin(2 \\omega t)\n",
    "\n",
    "注：\n",
    "\n",
    "- Tex 语法默认忽略空格，要打出空格使用 `'\\ '`\n",
    "- \\sin 默认显示为 Roman 字体"
   ]
  },
  {
   "cell_type": "markdown",
   "metadata": {},
   "source": [
    "## 音调"
   ]
  },
  {
   "cell_type": "markdown",
   "metadata": {},
   "source": [
    "命令|结果\n",
    "--|--\n",
    "`\\acute a`| $\\acute a$\n",
    "`\\bar a`| $\\bar a$\n",
    "`\\breve a` | $\\breve a$\n",
    "`\\ddot a`| $\\ddot a$\n",
    "`\\dot a` | $\\dot a$\n",
    "`\\grave a`| $\\grave a$\n",
    "`\\hat a`| $\\hat a$\n",
    "`\\tilde a` | $\\tilde a$\n",
    "`\\4vec a` | $\\vec a$\n",
    "`\\overline{abc}`|$\\overline{abc}$\n",
    "`\\widehat{xyz}`|$\\widehat{xyz}$\n",
    "`\\widetilde{xyz}`|$\\widetilde{xyz}$"
   ]
  },
  {
   "cell_type": "markdown",
   "metadata": {},
   "source": [
    "## 特殊字符表"
   ]
  },
  {
   "cell_type": "markdown",
   "metadata": {},
   "source": [
    "参见：http://matplotlib.org/users/mathtext.html#symbols"
   ]
  },
  {
   "cell_type": "markdown",
   "metadata": {},
   "source": [
    "## 例子"
   ]
  },
  {
   "cell_type": "code",
   "execution_count": 4,
   "metadata": {},
   "outputs": [
    {
     "data": {
      "image/png": "[encoded data removed]",
      "text/plain": [
       "<Figure size 432x288 with 1 Axes>"
      ]
     },
     "metadata": {
      "needs_background": "light"
     },
     "output_type": "display_data"
    }
   ],
   "source": [
    "import numpy as np\n",
    "import matplotlib.pyplot as plt\n",
    "t = np.arange(0.0, 2.0, 0.01)\n",
    "s = np.sin(2*np.pi*t)\n",
    "\n",
    "plt.plot(t,s)\n",
    "plt.title(r'$\\alpha_i > \\beta_i$', fontsize=20)\n",
    "plt.text(1, -0.6, r'$\\sum_{i=0}^\\infty x_i$', fontsize=20)\n",
    "plt.text(0.6, 0.6, r'$\\mathcal{A}\\ \\mathrm{sin}(2 \\omega t)$',\n",
    "         fontsize=20)\n",
    "plt.xlabel('time (s)')\n",
    "plt.ylabel('volts (mV)')\n",
    "plt.show()"
   ]
  }
 ],
 "metadata": {
  "kernelspec": {
   "display_name": "Python [conda env:pytorch] *",
   "language": "python",
   "name": "conda-env-pytorch-py"
  },
  "language_info": {
   "codemirror_mode": {
    "name": "ipython",
    "version": 3
   },
   "file_extension": ".py",
   "mimetype": "text/x-python",
   "name": "python",
   "nbconvert_exporter": "python",
   "pygments_lexer": "ipython3",
   "version": "3.7.7"
  }
 },
 "nbformat": 4,
 "nbformat_minor": 1
}
